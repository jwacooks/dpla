{
 "metadata": {
  "name": ""
 },
 "nbformat": 3,
 "nbformat_minor": 0,
 "worksheets": [
  {
   "cells": [
    {
     "cell_type": "heading",
     "level": 2,
     "metadata": {},
     "source": [
      "Load the required libraries"
     ]
    },
    {
     "cell_type": "code",
     "collapsed": false,
     "input": [
      "from dpla.api import DPLA\n",
      "from pymarc import Record, Field, MARCWriter\n",
      "from marcx import FatRecord\n",
      "from marcx import _equals, _startswith, _search, _match, _not"
     ],
     "language": "python",
     "metadata": {},
     "outputs": [],
     "prompt_number": 6
    },
    {
     "cell_type": "heading",
     "level": 2,
     "metadata": {},
     "source": [
      "Initialize an api session with DPLA"
     ]
    },
    {
     "cell_type": "markdown",
     "metadata": {},
     "source": [
      "Make sure you first [get an API key](http://dp.la/info/developers/codex/policies/#get-a-key)."
     ]
    },
    {
     "cell_type": "code",
     "collapsed": false,
     "input": [
      "dpla = DPLA('c96da5d01581aa45461c15442c5a7e2b')"
     ],
     "language": "python",
     "metadata": {},
     "outputs": [],
     "prompt_number": 7
    },
    {
     "cell_type": "heading",
     "level": 2,
     "metadata": {},
     "source": [
      "Define the search variables"
     ]
    },
    {
     "cell_type": "code",
     "collapsed": false,
     "input": [
      "## display fields\n",
      "dFields = ['id','isShownAt','object','dataProvider','hasView', 'sourceResource','sourceResource.title',\n",
      "           'sourceResource.creator','sourceResource.date.displayDate','sourceResource.language',\n",
      "           'sourceResource.description','sourceResource.format',\n",
      "           'sourceResource.publisher','sourceResource.isPartOf',\n",
      "           'sourceResource.rights','sourceResource.spatial',\n",
      "           'sourceResource.subject','sourceResource.type',\n",
      "           'sourceResource.collection.description','sourceResource.collection.title',]\n",
      "## Search fields\n",
      "## example:  sFields = {\"sourceResource.spatial.name\" : \"Africa\", \"dataProvider\" : \"University of Illinois\"}\n",
      "sFields = {\"sourceResource.subject.name\" : \"Missionaries\", \"sourceResource.title\" : \"Pioneers and founders : or, Recent workers in the mission field\"}\n",
      "\n",
      "## Page Size (maximum 500)\n",
      "pSize = 400\n",
      "## page Number (increment pNumber to paginate)\n",
      "pNumber = 1"
     ],
     "language": "python",
     "metadata": {},
     "outputs": [
      {
       "output_type": "stream",
       "stream": "stdout",
       "text": [
        "\n"
       ]
      }
     ],
     "prompt_number": 84
    },
    {
     "cell_type": "heading",
     "level": 2,
     "metadata": {},
     "source": [
      "Execute the search"
     ]
    },
    {
     "cell_type": "code",
     "collapsed": false,
     "input": [
      "result = dpla.search(searchFields=sFields, page_size=pSize, fields=dFields, page = pNumber)\n",
      "result.count"
     ],
     "language": "python",
     "metadata": {},
     "outputs": [
      {
       "metadata": {},
       "output_type": "pyout",
       "prompt_number": 85,
       "text": [
        "2"
       ]
      }
     ],
     "prompt_number": 85
    },
    {
     "cell_type": "heading",
     "level": 2,
     "metadata": {},
     "source": [
      "Create a marc record from each DPLA record retrieved and write it to a file"
     ]
    },
    {
     "cell_type": "code",
     "collapsed": false,
     "input": [
      "# Create a marc record for each result\n",
      "#\n",
      "# First open a file for the marc records\n",
      "#\n",
      "fname = str((pSize * (pNumber -1)) +1) + '-' + str(pSize * pNumber) + '.mrc'\n",
      "writer = MARCWriter(file(fname, 'w'))\n",
      "for item in result.items:\n",
      "    record = FatRecord()\n",
      "#leader\n",
      "    l = list(record.leader)\n",
      "    l[5] = 'n'\n",
      "    l[6] = 'e'  #  cartographic material\n",
      "    l[7] = 'm'\n",
      "    l[9] = 'a' # flag saying this record is utf8\n",
      "    record.leader = \"\".join(l)\n",
      "## 007\n",
      "    oh7 = list('|' * 23)\n",
      "    oh7[0:1] = 'cr'\n",
      "    field = Field(tag='007', data=\"\".join(oh7))\n",
      "    record.add_field(field)\n",
      "## 008\n",
      "    try:\n",
      "        data2 = item['sourceResource.date.displayDate']\n",
      "    except KeyError:\n",
      "        data2 = '####'\n",
      "        \n",
      "    data1 = '931104s'\n",
      "    data2 = str(data2)\n",
      "    data3 = '####dcu||||| #a##|s#0###'\n",
      "    data4 = 'eng'\n",
      "    data5 = '#d'\n",
      "    if item.has_key('sourceResource.language'):\n",
      "        if item['sourceResource.language'][0].has_key('iso639_3'):\n",
      "            data4 = item['sourceResource.language'][0][u'iso639_3']\n",
      "    record.add('008', data=data1 + data2 + data3 + data4 + data5) \n",
      "## 035\n",
      "    o35 = '(dpla)' + item['id']\n",
      "    record.add('035', a=o35, indicators='  ')\n",
      "## 100 or 110\n",
      "    if item.has_key('sourceResource.creator'):\n",
      "        myStr = item['sourceResource.creator']\n",
      "        if (type(myStr) == list):\n",
      "            record.add('100', a = myStr[0], indicators = '1 ')\n",
      "            x = 1\n",
      "            while x < len(myStr):\n",
      "                record.add('700', a = myStr[x], indicators = '1 ')\n",
      "                x += 1\n",
      "        else:\n",
      "            ## check for existence of a comma and trap for error\n",
      "            try:\n",
      "                pos = myStr.index(',')\n",
      "            except ValueError:\n",
      "                record.add('110', a = myStr, indicators = '2 ')\n",
      "            else:\n",
      "                record.add('100', a = myStr, indicators = '1 ')\n",
      "                \n",
      "                \n",
      "## 245 (246)\n",
      "    if item.has_key('sourceResource.title'):\n",
      "        myStr = item['sourceResource.title']\n",
      "        if (type(myStr) == list):\n",
      "            record.add('245', a = myStr[0], indicators = '00')\n",
      "            x = 1\n",
      "            while x < len(myStr):\n",
      "                record.add('246', a = myStr[x], indicators = '12')\n",
      "                x += 1\n",
      "        else:\n",
      "            record.add('245', a=myStr, indicators='00')\n",
      "    else:\n",
      "        record.add('245', a='undefined', indicators='00')\n",
      "## 260\n",
      "    pubplace = '[S.l.]'\n",
      "    publisher = '[s.n.],'\n",
      "    if item.has_key('sourceResource.publisher'):\n",
      "        pub = item['sourceResource.publisher']\n",
      "        if (type(pub) == list):\n",
      "            pub = pub[0]\n",
      "            pos = pub.index(' : ')\n",
      "            pubplace = pub[0:pos]\n",
      "            publisher = pub[pos+3:]\n",
      "        if (type(pub) == unicode):\n",
      "            pos = pub.index(' : ')\n",
      "            pubplace = pub[0:pos]\n",
      "            publisher = pub[pos+3:]\n",
      "\n",
      "    if item.has_key('sourceResource.date.displayDate'):\n",
      "        pubdate = item['sourceResource.date.displayDate']\n",
      "    else:\n",
      "        pubdate = ' '\n",
      "    record.add('260', a=pubplace, b=publisher,  c=pubdate, indicators='  ') \n",
      "    \n",
      "    if item.has_key('sourceResource.rights'):\n",
      "        record.add('506', a=item['sourceResource.rights'], indicators='  ')\n",
      "    if item.has_key('sourceResource.description'):\n",
      "        i = 0\n",
      "        description = ''\n",
      "        while i < len(item['sourceResource.description']):\n",
      "            description += item['sourceResource.description'][i]\n",
      "            i += 1\n",
      "            if (i < len(item['sourceResource.description'])):\n",
      "                description += '; '\n",
      "        record.add('520', a=description, indicators='2 ')\n",
      "        \n",
      "    if item.has_key('sourceResource.subject'):\n",
      "        subjects = item['sourceResource.subject']\n",
      "        for subject in subjects:\n",
      "            record.add('650', a=subject['name'], indicators=' 4')\n",
      "    if item.has_key('sourceResource.spatial'):\n",
      "        record.add('651', a= item['sourceResource.spatial'][0]['name'], indicators=' 4')\n",
      "    if item.has_key('dataProvider'):\n",
      "        record.add('710', a=item['dataProvider'],e='provider', indicators='2 ')\n",
      "    if item.has_key('isShownAt'):\n",
      "        record.add('856', u=item['isShownAt'], indicators='40') \n",
      "    if item.has_key('sourceResource.isPartOf'):\n",
      "        i = 0\n",
      "        partof = ''\n",
      "        while i < len(item['sourceResource.isPartOf']):\n",
      "            partof += item['sourceResource.isPartOf'][i]\n",
      "            i += 1\n",
      "            if (i < len(item['sourceResource.isPartOf'])):\n",
      "                partof += ' : '\n",
      "        #print 'isPartOf: ', partof\n",
      "        record.add('787', a = partof, indicators='0 ')\n",
      "#    fname = item['id'] + '.mrc'\n",
      "    #writer = MARCWriter(file(fname, 'w'))\n",
      "    writer.write(record)\n",
      "writer.close()\n"
     ],
     "language": "python",
     "metadata": {},
     "outputs": [],
     "prompt_number": 73
    },
    {
     "cell_type": "markdown",
     "metadata": {},
     "source": [
      "If paginating, change pNumber in Search variables, and re-execute"
     ]
    },
    {
     "cell_type": "markdown",
     "metadata": {},
     "source": [
      "+++++++++++++++++++++++++++++++++++++++++++++++++++++++++++"
     ]
    },
    {
     "cell_type": "heading",
     "level": 3,
     "metadata": {},
     "source": [
      "Testing code"
     ]
    },
    {
     "cell_type": "code",
     "collapsed": false,
     "input": [
      "item = result.items[1]\n",
      "item"
     ],
     "language": "python",
     "metadata": {},
     "outputs": [
      {
       "metadata": {},
       "output_type": "pyout",
       "prompt_number": 145,
       "text": [
        "{u'dataProvider': [u'Princeton University'],\n",
        " u'id': u'70bd763f88e6e44c2ad90cd7489e6700',\n",
        " u'isShownAt': u'http://catalog.hathitrust.org/Record/008924300',\n",
        " u'sourceResource': {u'creator': [u'Yonge, Charlotte Mary, 1823-1901'],\n",
        "  u'date': {u'begin': u'1890', u'displayDate': u'1890', u'end': u'1890'},\n",
        "  u'extent': [u'xvi, 316 p. : 19 cm.'],\n",
        "  u'format': [u'Electronic resource', u'Language material'],\n",
        "  u'identifier': [u'sdr-njp2403435', u'(OCoLC)9192242', u'Hathi: 008924300'],\n",
        "  u'language': [{u'iso639_3': u'eng', u'name': u'English'}],\n",
        "  u'publisher': [u'London : Macmillan'],\n",
        "  u'rights': u'Public domain only when viewed in the US. Learn more at http://www.hathitrust.org/access_use',\n",
        "  u'specType': u'Book',\n",
        "  u'subject': [{u'name': u'Missionaries'}],\n",
        "  u'title': [u'Pioneers and founders. Or, Recent workers in the mission field /'],\n",
        "  u'type': u'text'},\n",
        " u'sourceResource.creator': [u'Yonge, Charlotte Mary, 1823-1901'],\n",
        " u'sourceResource.date.displayDate': u'1890',\n",
        " u'sourceResource.format': [u'Electronic resource', u'Language material'],\n",
        " u'sourceResource.language': [{u'iso639_3': u'eng', u'name': u'English'}],\n",
        " u'sourceResource.publisher': [u'London : Macmillan'],\n",
        " u'sourceResource.rights': u'Public domain only when viewed in the US. Learn more at http://www.hathitrust.org/access_use',\n",
        " u'sourceResource.subject': [{u'name': u'Missionaries'}],\n",
        " u'sourceResource.title': [u'Pioneers and founders. Or, Recent workers in the mission field /'],\n",
        " u'sourceResource.type': u'text'}"
       ]
      }
     ],
     "prompt_number": 145
    },
    {
     "cell_type": "code",
     "collapsed": false,
     "input": [
      "# Create a marc record for each result\n",
      "#\n",
      "# First open a file for the marc records\n",
      "#\n",
      "#fname = str((pSize * (pNumber -1)) +1) + '-' + str(pSize * pNumber) + '.mrc'\n",
      "#writer = MARCWriter(file(fname, 'w'))\n",
      "for item in result.items:\n",
      "    record = FatRecord()\n",
      "#leader\n",
      "    l = list(record.leader)\n",
      "    l[5] = 'n'\n",
      "    l[6] = 'e'  #  cartographic material\n",
      "    l[7] = 'm'\n",
      "    l[9] = 'a' # flag saying this record is utf8\n",
      "    record.leader = \"\".join(l)\n",
      "## 007\n",
      "    oh7 = list('|' * 23)\n",
      "    oh7[0:1] = 'cr'\n",
      "    field = Field(tag='007', data=\"\".join(oh7))\n",
      "    record.add_field(field)\n",
      "## 008\n",
      "    try:\n",
      "        data2 = item['sourceResource.date.displayDate']\n",
      "    except KeyError:\n",
      "        data2 = '####'\n",
      "        \n",
      "    data1 = '931104s'\n",
      "    data2 = str(data2)\n",
      "    data3 = '####dcu||||| #a##|s#0###'\n",
      "    data4 = '###'\n",
      "    data5 = '#d'\n",
      "    if item.has_key('sourceResource.language'):\n",
      "        if item['sourceResource.language'][0].has_key('iso639_3'):\n",
      "            data4 = item['sourceResource.language'][0][u'iso639_3']\n",
      "    record.add('008', data=data1 + data2 + data3 + data4 + data5)\n",
      "## 035\n",
      "    o35 = '(dpla)' + item['id']\n",
      "    record.add('035', a=o35, indicators='  ')\n",
      "## 100 or 110\n",
      "    if item.has_key('sourceResource.creator'):\n",
      "        myStr = item['sourceResource.creator']\n",
      "        if (type(myStr) == list):\n",
      "            record.add('100', a = myStr[0], indicators = '1 ')\n",
      "            x = 1\n",
      "            while x < len(myStr):\n",
      "                record.add('700', a = myStr[x], indicators = '1 ')\n",
      "                x += 1\n",
      "        else:\n",
      "            ## check for existence of a comma and trap for error\n",
      "            try:\n",
      "                pos = myStr.index(',')\n",
      "            except ValueError:\n",
      "                record.add('110', a = myStr, indicators = '2 ')\n",
      "            else:\n",
      "                record.add('100', a = myStr, indicators = '1 ')\n",
      "## 245\n",
      "    if item.has_key('sourceResource.title'):\n",
      "        myStr = item['sourceResource.title']\n",
      "        if (type(myStr) == list):\n",
      "            record.add('245', a = myStr[0], indicators = '00')\n",
      "            x = 1\n",
      "            while x < len(myStr):\n",
      "                record.add('246', a = myStr[x], indicators = '12')\n",
      "                x += 1\n",
      "        else:\n",
      "            record.add('245', a=myStr, indicators='00')\n",
      "    else:\n",
      "        record.add('245', a='undefined', indicators='00')\n",
      "## 260\n",
      "    pubplace = '[S.l.]'\n",
      "    publisher = '[s.n.],'\n",
      "    if item.has_key('sourceResource.publisher'):\n",
      "        pub = item['sourceResource.publisher']\n",
      "        if (type(pub) == list):\n",
      "            pub = pub[0]\n",
      "            pos = pub.index(' : ')\n",
      "            pubplace = pub[0:pos]\n",
      "            publisher = pub[pos+3:]\n",
      "        if (type(pub) == unicode):\n",
      "            pos = pub.index(' : ')\n",
      "            pubplace = pub[0:pos]\n",
      "            publisher = pub[pos+3:]\n",
      "\n",
      "    if item.has_key('sourceResource.date.displayDate'):\n",
      "        pubdate = item['sourceResource.date.displayDate']\n",
      "    else:\n",
      "        pubdate = ' '\n",
      "    record.add('260', a=pubplace, b=publisher,  c=pubdate, indicators='  ')        \n",
      "        \n",
      "    if item.has_key('sourceResource.rights'):\n",
      "        record.add('506', a=item['sourceResource.rights'], indicators='  ')\n",
      "    if item.has_key('sourceResource.description'):\n",
      "        i = 0\n",
      "        description = ''\n",
      "        while i < len(item['sourceResource.description']):\n",
      "            description += item['sourceResource.description'][i]\n",
      "            i += 1\n",
      "            if (i < len(item['sourceResource.description'])):\n",
      "                description += '; '\n",
      "        record.add('520', a=description, indicators='2 ')\n",
      "        \n",
      "    if item.has_key('sourceResource.subject'):\n",
      "        subjects = item['sourceResource.subject']\n",
      "        for subject in subjects:\n",
      "            record.add('650', a=subject['name'], indicators=' 4')\n",
      "    if item.has_key('sourceResource.spatial'):\n",
      "        record.add('651', a= item['sourceResource.spatial'][0]['name'], indicators=' 4')\n",
      "    if item.has_key('dataProvider'):\n",
      "        record.add('710', a=item['dataProvider'],e='provider', indicators='2 ')\n",
      "    if item.has_key('isShownAt'):\n",
      "        record.add('856', u=item['isShownAt'], indicators='40') \n",
      "    if item.has_key('sourceResource.isPartOf'):\n",
      "        i = 0\n",
      "        partof = ''\n",
      "        while i < len(item['sourceResource.isPartOf']):\n",
      "            partof += item['sourceResource.isPartOf'][i]\n",
      "            i += 1\n",
      "            if (i < len(item['sourceResource.isPartOf'])):\n",
      "                partof += ' : '\n",
      "        #print 'isPartOf: ', partof\n",
      "        record.add('787', a = partof, indicators='0 ')\n",
      "    fname = item['id'] + '.mrc'\n",
      "#    print ' '\n",
      "#    print 'dataTitle: ', item['sourceResource.title']\n",
      "#    print ' '\n",
      "#    print '245: ', record.get_fields('245')\n",
      "#    print ' '\n",
      "#    print 'Title: ', record.title()\n",
      "\n",
      "    print '+++++++ '\n",
      "    for i in record.get_fields():\n",
      "        print i\n",
      "    #writer = MARCWriter(file(fname, 'w'))\n",
      "#    writer.write(record)\n",
      "#writer.close()\n"
     ],
     "language": "python",
     "metadata": {},
     "outputs": [
      {
       "output_type": "stream",
       "stream": "stdout",
       "text": [
        "+++++++ \n",
        "=007  cr||||||||||||||||||||||\n",
        "=008  931104s1871####dcu|||||\\#a##|s#0###eng#d\n",
        "=035  \\\\$a(dpla)20dd35c76744493de22798ea97ba6e8e\n",
        "=100  1\\$aYonge, Charlotte Mary, 1823-1901\n",
        "=245  00$aPioneers and founders : or, Recent workers in the mission field\n",
        "=260  \\\\$a[London]$c1871$bMacmillan\n",
        "=506  \\\\$aAccess to the Internet Archive's Collections is granted for scholarship and research purposes only. Some of the content available through the Archive may be governed by local, national, and/or international laws and regulations, and your use of such content is solely at your own risk.\n",
        "=650  \\4$aMissionaries\n",
        "=710  2\\$aWellesley College Library$eprovider\n",
        "=856  40$uhttp://www.archive.org/details/pioneersfounders71yong\n",
        "+++++++ \n",
        "=007  cr||||||||||||||||||||||\n",
        "=008  931104s1890####dcu|||||\\#a##|s#0###eng#d\n",
        "=035  \\\\$a(dpla)70bd763f88e6e44c2ad90cd7489e6700\n",
        "=100  1\\$aYonge, Charlotte Mary, 1823-1901\n",
        "=245  00$aPioneers and founders. Or, Recent workers in the mission field /\n",
        "=260  \\\\$aLondon$c1890$bMacmillan\n",
        "=506  \\\\$aPublic domain only when viewed in the US. Learn more at http://www.hathitrust.org/access_use\n",
        "=650  \\4$aMissionaries\n",
        "=710  2\\$aPrinceton University$eprovider\n",
        "=856  40$uhttp://catalog.hathitrust.org/Record/008924300\n"
       ]
      }
     ],
     "prompt_number": 149
    },
    {
     "cell_type": "code",
     "collapsed": false,
     "input": [
      "print ' '\n",
      "counter = pSize * (pNumber -1 )\n",
      "for item in result.items:\n",
      "    counter += 1\n",
      "    print 'Record: ' , str(counter)\n",
      "    print ' '\n",
      "    if item.has_key('id'):\n",
      "        print 'ID: ',item['id']\n",
      "    if item.has_key('sourceResource.creator'):\n",
      "        print 'Creator: ',item['sourceResource.creator']\n",
      "    if item.has_key('sourceResource.title'):\n",
      "        print 'Title: ',item['sourceResource.title']\n",
      "    if item.has_key('originalRecord.title'):\n",
      "        print 'Title: ',item['originalRecord.title']\n",
      "    if item.has_key('isShownAt'):\n",
      "        print ' '\n",
      "        print 'isShownAt: ', item['isShownAt']    \n",
      "    if item.has_key('sourceResource.format'):\n",
      "        print 'Format: ', item['sourceResource.format']\n",
      "    if item.has_key('sourceResource.type'):\n",
      "        print 'Type: ', item['sourceResource.type']\n",
      "    if item.has_key('sourceResource.publisher'):\n",
      "        pub = item['sourceResource.publisher']\n",
      "        if (type(pub) == 'list'):\n",
      "            i = 0\n",
      "            publisher = ''\n",
      "            while i < len(item['sourceResource.publisher']):\n",
      "                publisher += item['sourceResource.publisher'][i]\n",
      "                i += 1\n",
      "    \n",
      "        else:\n",
      "            pos = pub.index(' : ')\n",
      "            pubplace = pub[0:pos]\n",
      "            publisher = pub[pos+3:]\n",
      "            #if (i < len(item['sourceResource.publisher'])):\n",
      "            #    publisher += ': '\n",
      "        print 'Publisher: ', publisher\n",
      "    if item.has_key('sourceResource.date.displayDate'):\n",
      "        print 'Date: ', item['sourceResource.date.displayDate']\n",
      "    if item.has_key('sourceResource.description'):\n",
      "        #print 'Description: ', item['sourceResource.description']\n",
      "        i = 0\n",
      "        description = ''\n",
      "        while i < len(item['sourceResource.description']):\n",
      "            description += item['sourceResource.description'][i]\n",
      "            i += 1\n",
      "            if (i < len(item['sourceResource.description'])):\n",
      "                description += '; '\n",
      "        print 'Description: ', description\n",
      "    if item.has_key('sourceResource.spatial'):\n",
      "        print 'Spatial: ', item['sourceResource.spatial'][0]['name']\n",
      "    if item.has_key('sourceResource.subject'):\n",
      "        subjects = item['sourceResource.subject']\n",
      "        print 'Subjects:'\n",
      "        for subject in subjects:\n",
      "            print '   ',subject['name']\n",
      "    if item.has_key('sourceResource.isPartOf'):\n",
      "        i = 0\n",
      "        partof = ''\n",
      "        while i < len(item['sourceResource.isPartOf']):\n",
      "            partof += item['sourceResource.isPartOf'][i]\n",
      "            i += 1\n",
      "            if (i < len(item['sourceResource.isPartOf'])):\n",
      "                partof += ' : '\n",
      "        print 'isPartOf: ', partof\n",
      "\n",
      "    if item.has_key('dataProvider'):\n",
      "        print ' '\n",
      "        print 'Provider: ', item['dataProvider']\n",
      "\n",
      "    if item.has_key('sourceResource.rights'):\n",
      "        print 'Rights: ', item['sourceResource.rights']\n",
      "    print ' '\n",
      "    print '+++++++++'\n",
      "    print ' '"
     ],
     "language": "python",
     "metadata": {},
     "outputs": [
      {
       "ename": "ValueError",
       "evalue": "' : ' is not in list",
       "output_type": "pyerr",
       "traceback": [
        "\u001b[0;31m---------------------------------------------------------------------------\u001b[0m\n\u001b[0;31mValueError\u001b[0m                                Traceback (most recent call last)",
        "\u001b[0;32m<ipython-input-128-a185ed1758ff>\u001b[0m in \u001b[0;36m<module>\u001b[0;34m()\u001b[0m\n\u001b[1;32m     29\u001b[0m                 \u001b[0mi\u001b[0m \u001b[0;34m+=\u001b[0m \u001b[0;36m1\u001b[0m\u001b[0;34m\u001b[0m\u001b[0m\n\u001b[1;32m     30\u001b[0m         \u001b[0;32melse\u001b[0m\u001b[0;34m:\u001b[0m\u001b[0;34m\u001b[0m\u001b[0m\n\u001b[0;32m---> 31\u001b[0;31m             \u001b[0mpos\u001b[0m \u001b[0;34m=\u001b[0m \u001b[0mpub\u001b[0m\u001b[0;34m.\u001b[0m\u001b[0mindex\u001b[0m\u001b[0;34m(\u001b[0m\u001b[0;34m' : '\u001b[0m\u001b[0;34m)\u001b[0m\u001b[0;34m\u001b[0m\u001b[0m\n\u001b[0m\u001b[1;32m     32\u001b[0m             \u001b[0mpubplace\u001b[0m \u001b[0;34m=\u001b[0m \u001b[0mpub\u001b[0m\u001b[0;34m[\u001b[0m\u001b[0;36m0\u001b[0m\u001b[0;34m:\u001b[0m\u001b[0mpos\u001b[0m\u001b[0;34m]\u001b[0m\u001b[0;34m\u001b[0m\u001b[0m\n\u001b[1;32m     33\u001b[0m             \u001b[0mpublisher\u001b[0m \u001b[0;34m=\u001b[0m \u001b[0mpub\u001b[0m\u001b[0;34m[\u001b[0m\u001b[0mpos\u001b[0m\u001b[0;34m+\u001b[0m\u001b[0;36m3\u001b[0m\u001b[0;34m:\u001b[0m\u001b[0;34m]\u001b[0m\u001b[0;34m\u001b[0m\u001b[0m\n",
        "\u001b[0;31mValueError\u001b[0m: ' : ' is not in list"
       ]
      },
      {
       "output_type": "stream",
       "stream": "stdout",
       "text": [
        " \n",
        "Record:  1\n",
        " \n",
        "ID:  20dd35c76744493de22798ea97ba6e8e\n",
        "Creator:  Yonge, Charlotte Mary, 1823-1901\n",
        "Title:  Pioneers and founders : or, Recent workers in the mission field\n",
        " \n",
        "isShownAt:  http://www.archive.org/details/pioneersfounders71yong\n",
        "Type:  text\n",
        "Publisher:  Macmillan\n",
        "Date:  1871\n",
        "Subjects:\n",
        "    Missionaries\n",
        " \n",
        "Provider:  Wellesley College Library\n",
        "Rights:  Access to the Internet Archive's Collections is granted for scholarship and research purposes only. Some of the content available through the Archive may be governed by local, national, and/or international laws and regulations, and your use of such content is solely at your own risk.\n",
        " \n",
        "+++++++++\n",
        " \n",
        "Record:  2\n",
        " \n",
        "ID:  70bd763f88e6e44c2ad90cd7489e6700\n",
        "Creator:  [u'Yonge, Charlotte Mary, 1823-1901']\n",
        "Title:  [u'Pioneers and founders. Or, Recent workers in the mission field /']\n",
        " \n",
        "isShownAt:  http://catalog.hathitrust.org/Record/008924300\n",
        "Format:  [u'Electronic resource', u'Language material']\n",
        "Type:  text\n"
       ]
      }
     ],
     "prompt_number": 128
    },
    {
     "cell_type": "code",
     "collapsed": false,
     "input": [
      "pub = result.items[0]['sourceResource.publisher']"
     ],
     "language": "python",
     "metadata": {},
     "outputs": [],
     "prompt_number": 108
    },
    {
     "cell_type": "code",
     "collapsed": false,
     "input": [
      "pub"
     ],
     "language": "python",
     "metadata": {},
     "outputs": [
      {
       "metadata": {},
       "output_type": "pyout",
       "prompt_number": 109,
       "text": [
        "u'[London] : Macmillan'"
       ]
      }
     ],
     "prompt_number": 109
    },
    {
     "cell_type": "code",
     "collapsed": false,
     "input": [
      "pub.index(' : ')"
     ],
     "language": "python",
     "metadata": {},
     "outputs": [
      {
       "metadata": {},
       "output_type": "pyout",
       "prompt_number": 116,
       "text": [
        "8"
       ]
      }
     ],
     "prompt_number": 116
    },
    {
     "cell_type": "code",
     "collapsed": false,
     "input": [
      "pub[0:8]"
     ],
     "language": "python",
     "metadata": {},
     "outputs": [
      {
       "metadata": {},
       "output_type": "pyout",
       "prompt_number": 117,
       "text": [
        "u'[London]'"
       ]
      }
     ],
     "prompt_number": 117
    },
    {
     "cell_type": "code",
     "collapsed": false,
     "input": [
      "pub[11:]"
     ],
     "language": "python",
     "metadata": {},
     "outputs": [
      {
       "metadata": {},
       "output_type": "pyout",
       "prompt_number": 118,
       "text": [
        "u'Macmillan'"
       ]
      }
     ],
     "prompt_number": 118
    },
    {
     "cell_type": "code",
     "collapsed": false,
     "input": [
      "type(result.items[0]['sourceResource.publisher']) "
     ],
     "language": "python",
     "metadata": {},
     "outputs": [
      {
       "metadata": {},
       "output_type": "pyout",
       "prompt_number": 139,
       "text": [
        "unicode"
       ]
      }
     ],
     "prompt_number": 139
    },
    {
     "cell_type": "code",
     "collapsed": false,
     "input": [],
     "language": "python",
     "metadata": {},
     "outputs": [
      {
       "metadata": {},
       "output_type": "pyout",
       "prompt_number": 122,
       "text": [
        "u'[London] : Macmillan'"
       ]
      }
     ],
     "prompt_number": 122
    },
    {
     "cell_type": "code",
     "collapsed": false,
     "input": [],
     "language": "python",
     "metadata": {},
     "outputs": []
    }
   ],
   "metadata": {}
  }
 ]
}